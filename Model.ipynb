{
  "nbformat": 4,
  "nbformat_minor": 0,
  "metadata": {
    "colab": {
      "name": "Model.ipynb",
      "version": "0.3.2",
      "provenance": [],
      "collapsed_sections": []
    },
    "kernelspec": {
      "name": "python3",
      "display_name": "Python 3"
    },
    "accelerator": "GPU"
  },
  "cells": [
    {
      "metadata": {
        "id": "HQHC-Zq-u0CR",
        "colab_type": "code",
        "colab": {}
      },
      "cell_type": "code",
      "source": [
        "import cv2\n",
        "import matplotlib.pyplot as plt\n",
        "import os\n",
        "import numpy as np\n",
        "from sklearn.utils import shuffle"
      ],
      "execution_count": 0,
      "outputs": []
    },
    {
      "metadata": {
        "id": "NDu0lSfMu1FJ",
        "colab_type": "code",
        "outputId": "e014313c-22a0-4f1d-9109-1ad4016dcc08",
        "colab": {
          "base_uri": "https://localhost:8080/",
          "height": 54
        }
      },
      "cell_type": "code",
      "source": [
        "from google.colab import drive\n",
        "drive.mount('/content/gdrive')"
      ],
      "execution_count": 0,
      "outputs": [
        {
          "output_type": "stream",
          "text": [
            "Drive already mounted at /content/gdrive; to attempt to forcibly remount, call drive.mount(\"/content/gdrive\", force_remount=True).\n"
          ],
          "name": "stdout"
        }
      ]
    },
    {
      "metadata": {
        "id": "puyjw-bCu0CU",
        "colab_type": "code",
        "outputId": "7dee5c2c-da23-44b7-fd6f-052c3f5a3c62",
        "colab": {
          "base_uri": "https://localhost:8080/",
          "height": 34
        }
      },
      "cell_type": "code",
      "source": [
        "from keras.utils import np_utils\n",
        "from keras.models import Sequential\n",
        "from keras.layers import Dense, Conv2D, MaxPooling2D, Dropout, Flatten\n",
        "from keras.optimizers import Adam"
      ],
      "execution_count": 0,
      "outputs": [
        {
          "output_type": "stream",
          "text": [
            "Using TensorFlow backend.\n"
          ],
          "name": "stderr"
        }
      ]
    },
    {
      "metadata": {
        "id": "Udq6YSZCu0CV",
        "colab_type": "code",
        "colab": {}
      },
      "cell_type": "code",
      "source": [
        "classes_dict = {\n",
        "    'thumbs up': 0,\n",
        "    'yeet': 1,\n",
        "    'bro fist': 2,\n",
        "    'wave': 3,\n",
        "    'yo': 4,\n",
        "    'peace': 5\n",
        "}"
      ],
      "execution_count": 0,
      "outputs": []
    },
    {
      "metadata": {
        "id": "on2A18ggu0CY",
        "colab_type": "code",
        "colab": {}
      },
      "cell_type": "code",
      "source": [
        "image_data = []\n",
        "classes = []\n",
        "\n",
        "IMG_SIZE = 128\n",
        "\n",
        "base_dir = './Images/'\n",
        "for sub_dir in os.listdir(base_dir):\n",
        "    if(sub_dir == '.DS_Store'):\n",
        "        continue\n",
        "    curr_dir = base_dir + sub_dir + '/'\n",
        "    for image in os.listdir(curr_dir):\n",
        "        if(image == '.DS_Store'):\n",
        "            continue\n",
        "        img = cv2.imread(curr_dir + image, 0)\n",
        "        img = cv2.resize(img, (IMG_SIZE, IMG_SIZE))\n",
        "        img =img/255.0\n",
        "        image_data.append(img)\n",
        "        classes.append(classes_dict[sub_dir])\n",
        "        "
      ],
      "execution_count": 0,
      "outputs": []
    },
    {
      "metadata": {
        "id": "Mb9HAfLau0Ca",
        "colab_type": "code",
        "colab": {}
      },
      "cell_type": "code",
      "source": [
        "def showImgs():\n",
        "    for ix in range(0,len(image_data), 300):\n",
        "        plt.title(classes[ix])\n",
        "        plt.imshow(image_data[ix], cmap='gray')\n",
        "        plt.show()"
      ],
      "execution_count": 0,
      "outputs": []
    },
    {
      "metadata": {
        "id": "HXng-RiCu0Cc",
        "colab_type": "code",
        "outputId": "51265289-ff97-46a1-da85-787f0071fb5d",
        "colab": {
          "base_uri": "https://localhost:8080/",
          "height": 2087
        }
      },
      "cell_type": "code",
      "source": [
        "showImgs()\n"
      ],
      "execution_count": 0,
      "outputs": [
        {
          "output_type": "display_data",
          "data": {
            "image/png": "[encoded data removed]",
            "text/plain": [
              "<Figure size 576x396 with 1 Axes>"
            ]
          },
          "metadata": {
            "tags": []
          }
        },
        {
          "output_type": "display_data",
          "data": {
            "image/png": "[encoded data removed]",
            "text/plain": [
              "<Figure size 576x396 with 1 Axes>"
            ]
          },
          "metadata": {
            "tags": []
          }
        },
        {
          "output_type": "display_data",
          "data": {
            "image/png": "[encoded data removed]",
            "text/plain": [
              "<Figure size 576x396 with 1 Axes>"
            ]
          },
          "metadata": {
            "tags": []
          }
        },
        {
          "output_type": "display_data",
          "data": {
            "image/png": "[encoded data removed]",
            "text/plain": [
              "<Figure size 576x396 with 1 Axes>"
            ]
          },
          "metadata": {
            "tags": []
          }
        },
        {
          "output_type": "display_data",
          "data": {
            "image/png": "[encoded data removed]",
            "text/plain": [
              "<Figure size 576x396 with 1 Axes>"
            ]
          },
          "metadata": {
            "tags": []
          }
        },
        {
          "output_type": "display_data",
          "data": {
            "image/png": "[encoded data removed]",
            "text/plain": [
              "<Figure size 576x396 with 1 Axes>"
            ]
          },
          "metadata": {
            "tags": []
          }
        }
      ]
    },
    {
      "metadata": {
        "id": "XoAdlYTpu0Cf",
        "colab_type": "code",
        "colab": {}
      },
      "cell_type": "code",
      "source": [
        "X_ = np.array(image_data)\n",
        "Y_ = np_utils.to_categorical(classes)\n",
        "\n",
        "X,Y = shuffle(X_,Y_,random_state = 0)"
      ],
      "execution_count": 0,
      "outputs": []
    },
    {
      "metadata": {
        "id": "vyS-zwXcu0Cg",
        "colab_type": "code",
        "outputId": "5c081f60-1f36-4bd7-aba1-cb52ced06ac8",
        "colab": {
          "base_uri": "https://localhost:8080/",
          "height": 34
        }
      },
      "cell_type": "code",
      "source": [
        "X.shape, Y.shape"
      ],
      "execution_count": 0,
      "outputs": [
        {
          "output_type": "execute_result",
          "data": {
            "text/plain": [
              "((1800, 128, 128), (1800, 6))"
            ]
          },
          "metadata": {
            "tags": []
          },
          "execution_count": 9
        }
      ]
    },
    {
      "metadata": {
        "id": "cQmKf8IUu0Cj",
        "colab_type": "code",
        "colab": {}
      },
      "cell_type": "code",
      "source": [
        "X = X.reshape((-1,IMG_SIZE,IMG_SIZE,1))"
      ],
      "execution_count": 0,
      "outputs": []
    },
    {
      "metadata": {
        "id": "r29bze2Vu0Cl",
        "colab_type": "code",
        "outputId": "b2963f6e-3b8e-4ff4-a0f8-4795dfa0b0ce",
        "colab": {
          "base_uri": "https://localhost:8080/",
          "height": 34
        }
      },
      "cell_type": "code",
      "source": [
        "X.shape, Y.shape"
      ],
      "execution_count": 0,
      "outputs": [
        {
          "output_type": "execute_result",
          "data": {
            "text/plain": [
              "((1800, 128, 128, 1), (1800, 6))"
            ]
          },
          "metadata": {
            "tags": []
          },
          "execution_count": 11
        }
      ]
    },
    {
      "metadata": {
        "id": "dB1ZjLDJu0Co",
        "colab_type": "code",
        "outputId": "c4198c68-0e07-4964-abfd-864ed5c3f57e",
        "colab": {
          "base_uri": "https://localhost:8080/",
          "height": 578
        }
      },
      "cell_type": "code",
      "source": [
        "model = Sequential()\n",
        "model.add(Conv2D(16,(3,3), activation='relu', input_shape = (IMG_SIZE,IMG_SIZE,1)))\n",
        "model.add(Conv2D(32, (3,3), activation='relu'))\n",
        "model.add(MaxPooling2D())\n",
        "model.add(Dropout(0.25))\n",
        "model.add(Conv2D(32,(3,3), activation='relu'))\n",
        "model.add(MaxPooling2D())\n",
        "model.add(Dropout(0.25))\n",
        "model.add(Conv2D(64,(3,3), activation='relu'))\n",
        "model.add(Conv2D(64, (5,5), activation='relu'))\n",
        "model.add(MaxPooling2D())\n",
        "model.add(Dropout(0.25))\n",
        "model.add(Flatten())\n",
        "model.add(Dense(6, activation='softmax'))\n",
        "model.summary()"
      ],
      "execution_count": 0,
      "outputs": [
        {
          "output_type": "stream",
          "text": [
            "_________________________________________________________________\n",
            "Layer (type)                 Output Shape              Param #   \n",
            "=================================================================\n",
            "conv2d_1 (Conv2D)            (None, 126, 126, 16)      160       \n",
            "_________________________________________________________________\n",
            "conv2d_2 (Conv2D)            (None, 124, 124, 32)      4640      \n",
            "_________________________________________________________________\n",
            "max_pooling2d_1 (MaxPooling2 (None, 62, 62, 32)        0         \n",
            "_________________________________________________________________\n",
            "dropout_1 (Dropout)          (None, 62, 62, 32)        0         \n",
            "_________________________________________________________________\n",
            "conv2d_3 (Conv2D)            (None, 60, 60, 32)        9248      \n",
            "_________________________________________________________________\n",
            "max_pooling2d_2 (MaxPooling2 (None, 30, 30, 32)        0         \n",
            "_________________________________________________________________\n",
            "dropout_2 (Dropout)          (None, 30, 30, 32)        0         \n",
            "_________________________________________________________________\n",
            "conv2d_4 (Conv2D)            (None, 28, 28, 64)        18496     \n",
            "_________________________________________________________________\n",
            "conv2d_5 (Conv2D)            (None, 24, 24, 64)        102464    \n",
            "_________________________________________________________________\n",
            "max_pooling2d_3 (MaxPooling2 (None, 12, 12, 64)        0         \n",
            "_________________________________________________________________\n",
            "dropout_3 (Dropout)          (None, 12, 12, 64)        0         \n",
            "_________________________________________________________________\n",
            "flatten_1 (Flatten)          (None, 9216)              0         \n",
            "_________________________________________________________________\n",
            "dense_1 (Dense)              (None, 6)                 55302     \n",
            "=================================================================\n",
            "Total params: 190,310\n",
            "Trainable params: 190,310\n",
            "Non-trainable params: 0\n",
            "_________________________________________________________________\n"
          ],
          "name": "stdout"
        }
      ]
    },
    {
      "metadata": {
        "id": "URY_rdv0u0Cq",
        "colab_type": "code",
        "colab": {}
      },
      "cell_type": "code",
      "source": [
        "model.compile(optimizer=Adam(lr=0.0003), metrics=['accuracy'], loss='categorical_crossentropy')\n"
      ],
      "execution_count": 0,
      "outputs": []
    },
    {
      "metadata": {
        "id": "IQ7T_S9Xu0Cu",
        "colab_type": "code",
        "outputId": "a5726075-9b2a-4b78-d9db-c2d250c91d4b",
        "colab": {
          "base_uri": "https://localhost:8080/",
          "height": 751
        }
      },
      "cell_type": "code",
      "source": [
        "model.fit(X,Y,epochs=20,batch_size=128, shuffle=True, validation_split = 0.2)"
      ],
      "execution_count": 0,
      "outputs": [
        {
          "output_type": "stream",
          "text": [
            "Train on 1440 samples, validate on 360 samples\n",
            "Epoch 1/20\n",
            "1440/1440 [==============================] - 6s 4ms/step - loss: 1.5314 - acc: 0.4889 - val_loss: 1.0015 - val_acc: 0.9333\n",
            "Epoch 2/20\n",
            "1440/1440 [==============================] - 2s 1ms/step - loss: 0.3358 - acc: 0.9201 - val_loss: 0.1190 - val_acc: 0.9611\n",
            "Epoch 3/20\n",
            "1440/1440 [==============================] - 2s 1ms/step - loss: 0.1274 - acc: 0.9556 - val_loss: 0.0757 - val_acc: 0.9833\n",
            "Epoch 4/20\n",
            "1440/1440 [==============================] - 2s 1ms/step - loss: 0.0762 - acc: 0.9806 - val_loss: 0.0555 - val_acc: 0.9778\n",
            "Epoch 5/20\n",
            "1440/1440 [==============================] - 2s 1ms/step - loss: 0.0735 - acc: 0.9785 - val_loss: 0.0759 - val_acc: 0.9750\n",
            "Epoch 6/20\n",
            "1440/1440 [==============================] - 2s 1ms/step - loss: 0.0411 - acc: 0.9847 - val_loss: 0.0567 - val_acc: 0.9806\n",
            "Epoch 7/20\n",
            "1440/1440 [==============================] - 2s 1ms/step - loss: 0.0249 - acc: 0.9910 - val_loss: 0.0404 - val_acc: 0.9944\n",
            "Epoch 8/20\n",
            "1440/1440 [==============================] - 2s 1ms/step - loss: 0.0220 - acc: 0.9924 - val_loss: 0.0274 - val_acc: 0.9972\n",
            "Epoch 9/20\n",
            "1440/1440 [==============================] - 2s 1ms/step - loss: 0.0177 - acc: 0.9924 - val_loss: 0.0297 - val_acc: 0.9944\n",
            "Epoch 10/20\n",
            "1440/1440 [==============================] - 2s 1ms/step - loss: 0.0106 - acc: 0.9972 - val_loss: 0.0248 - val_acc: 0.9944\n",
            "Epoch 11/20\n",
            "1440/1440 [==============================] - 2s 1ms/step - loss: 0.0080 - acc: 0.9979 - val_loss: 0.0426 - val_acc: 0.9889\n",
            "Epoch 12/20\n",
            "1440/1440 [==============================] - 2s 1ms/step - loss: 0.0137 - acc: 0.9965 - val_loss: 0.0382 - val_acc: 0.9889\n",
            "Epoch 13/20\n",
            "1440/1440 [==============================] - 2s 1ms/step - loss: 0.0154 - acc: 0.9965 - val_loss: 0.0237 - val_acc: 0.9972\n",
            "Epoch 14/20\n",
            "1440/1440 [==============================] - 2s 1ms/step - loss: 0.0071 - acc: 0.9986 - val_loss: 0.0516 - val_acc: 0.9778\n",
            "Epoch 15/20\n",
            "1440/1440 [==============================] - 2s 1ms/step - loss: 0.0097 - acc: 0.9972 - val_loss: 0.0216 - val_acc: 0.9972\n",
            "Epoch 16/20\n",
            "1440/1440 [==============================] - 2s 1ms/step - loss: 0.0074 - acc: 0.9965 - val_loss: 0.0235 - val_acc: 0.9972\n",
            "Epoch 17/20\n",
            "1440/1440 [==============================] - 2s 1ms/step - loss: 0.0038 - acc: 0.9993 - val_loss: 0.0282 - val_acc: 0.9972\n",
            "Epoch 18/20\n",
            "1440/1440 [==============================] - 2s 1ms/step - loss: 0.0045 - acc: 0.9979 - val_loss: 0.0235 - val_acc: 0.9944\n",
            "Epoch 19/20\n",
            "1440/1440 [==============================] - 2s 1ms/step - loss: 0.0021 - acc: 0.9993 - val_loss: 0.0246 - val_acc: 0.9972\n",
            "Epoch 20/20\n",
            "1440/1440 [==============================] - 2s 1ms/step - loss: 0.0021 - acc: 0.9993 - val_loss: 0.0219 - val_acc: 0.9972\n"
          ],
          "name": "stdout"
        },
        {
          "output_type": "execute_result",
          "data": {
            "text/plain": [
              "<keras.callbacks.History at 0x7faf815d0a58>"
            ]
          },
          "metadata": {
            "tags": []
          },
          "execution_count": 14
        }
      ]
    },
    {
      "metadata": {
        "id": "gjNXDFSj1PWa",
        "colab_type": "code",
        "colab": {}
      },
      "cell_type": "code",
      "source": [
        "X_ = X_.reshape((-1,IMG_SIZE,IMG_SIZE,1))\n",
        "y_preds = model.predict_classes(X_)"
      ],
      "execution_count": 0,
      "outputs": []
    },
    {
      "metadata": {
        "id": "WQRNLxgw48_P",
        "colab_type": "code",
        "colab": {}
      },
      "cell_type": "code",
      "source": [
        "classes = np.array(classes)"
      ],
      "execution_count": 0,
      "outputs": []
    },
    {
      "metadata": {
        "id": "E5s2nwC65HTT",
        "colab_type": "code",
        "colab": {}
      },
      "cell_type": "code",
      "source": [
        "acc = np.mean(classes == y_preds)"
      ],
      "execution_count": 0,
      "outputs": []
    },
    {
      "metadata": {
        "id": "sOKkQyiL5Kgc",
        "colab_type": "code",
        "outputId": "95956f44-2470-4e2f-c20a-0e95da228bcb",
        "colab": {
          "base_uri": "https://localhost:8080/",
          "height": 51
        }
      },
      "cell_type": "code",
      "source": [
        "for ix in range(y_preds.shape[0]):\n",
        "  if(y_preds[ix]!=classes[ix]):\n",
        "    print(ix)\n",
        "    print(y_preds[ix], classes[ix])"
      ],
      "execution_count": 0,
      "outputs": [
        {
          "output_type": "stream",
          "text": [
            "1531\n",
            "0 4\n"
          ],
          "name": "stdout"
        }
      ]
    },
    {
      "metadata": {
        "id": "8Xjbc9JC5MTn",
        "colab_type": "code",
        "outputId": "39bb55d7-e2d2-4e88-c725-240718f811db",
        "colab": {
          "base_uri": "https://localhost:8080/",
          "height": 350
        }
      },
      "cell_type": "code",
      "source": [
        "plt.imshow(image_data[1531])\n",
        "plt.show()"
      ],
      "execution_count": 0,
      "outputs": [
        {
          "output_type": "display_data",
          "data": {
            "image/png": "[encoded data removed]",
            "text/plain": [
              "<Figure size 576x396 with 1 Axes>"
            ]
          },
          "metadata": {
            "tags": []
          }
        }
      ]
    },
    {
      "metadata": {
        "id": "rzV_Alru5pYy",
        "colab_type": "code",
        "colab": {}
      },
      "cell_type": "code",
      "source": [
        "model.save('./gesture-model.h5')"
      ],
      "execution_count": 0,
      "outputs": []
    },
    {
      "metadata": {
        "id": "HoKvV3a76LYN",
        "colab_type": "code",
        "colab": {}
      },
      "cell_type": "code",
      "source": [
        ""
      ],
      "execution_count": 0,
      "outputs": []
    }
  ]
}